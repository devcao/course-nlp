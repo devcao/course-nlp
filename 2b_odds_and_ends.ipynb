{
  "nbformat": 4,
  "nbformat_minor": 0,
  "metadata": {
    "colab": {
      "name": "2b-odds-and-ends.ipynb",
      "version": "0.3.2",
      "provenance": []
    },
    "language_info": {
      "codemirror_mode": {
        "name": "ipython",
        "version": 3
      },
      "file_extension": ".py",
      "mimetype": "text/x-python",
      "name": "python",
      "nbconvert_exporter": "python",
      "pygments_lexer": "ipython3",
      "version": "3.7.3"
    },
    "kernelspec": {
      "display_name": "Python 3",
      "language": "python",
      "name": "python3"
    }
  },
  "cells": [
    {
      "cell_type": "markdown",
      "metadata": {
        "id": "am5jjdACSaUW",
        "colab_type": "text"
      },
      "source": [
        "In this notebook, I want to wrap up some loose ends from last time."
      ]
    },
    {
      "cell_type": "markdown",
      "metadata": {
        "id": "u8XU5-1DSaUY",
        "colab_type": "text"
      },
      "source": [
        "## The two cultures"
      ]
    },
    {
      "cell_type": "markdown",
      "metadata": {
        "id": "Olte12ENSaUZ",
        "colab_type": "text"
      },
      "source": [
        "This \"debate\" captures the tension between two approaches:\n",
        "\n",
        "- modeling the underlying mechanism of a phenomena\n",
        "- using machine learning to predict outputs (without necessarily understanding the mechanisms that create them)"
      ]
    },
    {
      "cell_type": "markdown",
      "metadata": {
        "id": "KmbjLZ4rSaUa",
        "colab_type": "text"
      },
      "source": [
        "<img src=\"https://github.com/fastai/course-nlp/blob/master/images/glutathione.jpg?raw=1\" alt=\"One carbon cell metabolism\" style=\"width: 80%\"/>"
      ]
    },
    {
      "cell_type": "markdown",
      "metadata": {
        "id": "rVkFnrzoSaUb",
        "colab_type": "text"
      },
      "source": [
        "I was part of a research project (in 2007) that involved manually coding each of the above reactions.  We were determining if the final system could generate the same ouputs (in this case, levels in the blood of various substrates) as were observed in clinical studies.  \n",
        "\n",
        "The equation for each reaction could be quite complex:\n",
        "<img src=\"https://github.com/fastai/course-nlp/blob/master/images/vcbs.png?raw=1\" alt=\"reaction equation\" style=\"width: 80%\"/>\n",
        "\n",
        "This is an example of modeling the underlying mechanism, and is very different from a machine learning approach.\n",
        "\n",
        "Source: https://www.ncbi.nlm.nih.gov/pmc/articles/PMC2391141/"
      ]
    },
    {
      "cell_type": "markdown",
      "metadata": {
        "id": "bLk8NjbxSaUc",
        "colab_type": "text"
      },
      "source": [
        "## The most popular word in each state"
      ]
    },
    {
      "cell_type": "markdown",
      "metadata": {
        "id": "GK3i-ZJ2SaUd",
        "colab_type": "text"
      },
      "source": [
        "<img src=\"https://github.com/fastai/course-nlp/blob/master/images/map-popular-word.png?raw=1\" alt=\"The\" style=\"width: 80%\"/>"
      ]
    },
    {
      "cell_type": "markdown",
      "metadata": {
        "id": "xYfRUOWaSaUd",
        "colab_type": "text"
      },
      "source": [
        "A time to remove stop words"
      ]
    },
    {
      "cell_type": "markdown",
      "metadata": {
        "id": "BfzCQjV-SaUe",
        "colab_type": "text"
      },
      "source": [
        "## Factorization is analgous to matrix decomposition"
      ]
    },
    {
      "cell_type": "markdown",
      "metadata": {
        "heading_collapsed": true,
        "id": "-T-IgUMrSaUf",
        "colab_type": "text"
      },
      "source": [
        "### With Integers"
      ]
    },
    {
      "cell_type": "markdown",
      "metadata": {
        "hidden": true,
        "id": "KMoqINcoSaUg",
        "colab_type": "text"
      },
      "source": [
        "Multiplication: \n",
        "\t$$2 * 2 * 3 * 3 * 2 * 2 \\rightarrow 144$$\n",
        "    \n",
        "<img src=\"https://github.com/fastai/course-nlp/blob/master/images/factorization.png?raw=1\" alt=\"factorization\" style=\"width: 50%\"/>\n",
        "\n",
        "Factorization is the “opposite” of multiplication: \n",
        "\t $$144 \\rightarrow 2 * 2 * 3 * 3 * 2 * 2$$\n",
        "     \n",
        "Here, the factors have the nice property of being prime.\n",
        "\n",
        "Prime factorization is much harder than multiplication (which is good, because it’s the heart of encryption)."
      ]
    },
    {
      "cell_type": "markdown",
      "metadata": {
        "heading_collapsed": true,
        "id": "klrEiqXlSaUh",
        "colab_type": "text"
      },
      "source": [
        "### With Matrices"
      ]
    },
    {
      "cell_type": "markdown",
      "metadata": {
        "hidden": true,
        "id": "rnXFFLa2SaUi",
        "colab_type": "text"
      },
      "source": [
        "Matrix decompositions are a way of taking matrices apart (the \"opposite\" of matrix multiplication).\n",
        "\n",
        "Similarly, we use matrix decompositions to come up with matrices with nice properties."
      ]
    },
    {
      "cell_type": "markdown",
      "metadata": {
        "hidden": true,
        "id": "O-CW7FE4SaUj",
        "colab_type": "text"
      },
      "source": [
        "Taking matrices apart is harder than putting them together.\n",
        "\n",
        "[One application](https://github.com/fastai/numerical-linear-algebra/blob/master/nbs/3.%20Background%20Removal%20with%20Robust%20PCA.ipynb):\n",
        "\n",
        "<img src=\"https://github.com/fastai/course-nlp/blob/master/images/grid1.jpg?raw=1\" alt=\"The\" style=\"width: 100%\"/>"
      ]
    },
    {
      "cell_type": "markdown",
      "metadata": {
        "hidden": true,
        "id": "S4I5yKakSaUj",
        "colab_type": "text"
      },
      "source": [
        "What are the nice properties that matrices in an SVD decomposition have?\n",
        "\n",
        "$$A = USV$$"
      ]
    },
    {
      "cell_type": "markdown",
      "metadata": {
        "id": "CxKSjIt0SaUk",
        "colab_type": "text"
      },
      "source": [
        "## Some Linear Algebra Review"
      ]
    },
    {
      "cell_type": "markdown",
      "metadata": {
        "id": "ZGUKHJdzSaUl",
        "colab_type": "text"
      },
      "source": [
        "### Matrix-vector multiplication"
      ]
    },
    {
      "cell_type": "markdown",
      "metadata": {
        "id": "De6hfb0zSaUm",
        "colab_type": "text"
      },
      "source": [
        "$Ax = b$ takes a linear combination of the columns of $A$, using coefficients $x$\n",
        "\n",
        "http://matrixmultiplication.xyz/"
      ]
    },
    {
      "cell_type": "markdown",
      "metadata": {
        "id": "aTXKmAkbSaUn",
        "colab_type": "text"
      },
      "source": [
        "### Matrix-matrix multiplication"
      ]
    },
    {
      "cell_type": "markdown",
      "metadata": {
        "id": "9SiaqLJRSaUo",
        "colab_type": "text"
      },
      "source": [
        "$A B = C$ each column of C is a linear combination of columns of A, where the coefficients come from the corresponding column of C"
      ]
    },
    {
      "cell_type": "markdown",
      "metadata": {
        "id": "vDSQewiTSaUo",
        "colab_type": "text"
      },
      "source": [
        "<img src=\"https://github.com/fastai/course-nlp/blob/master/images/face_nmf.png?raw=1\" alt=\"NMF on faces\" style=\"width: 80%\"/>\n",
        "\n",
        "(source: [NMF Tutorial](http://perso.telecom-paristech.fr/~essid/teach/NMF_tutorial_ICME-2014.pdf))"
      ]
    },
    {
      "cell_type": "markdown",
      "metadata": {
        "id": "mSetWlCfSaUp",
        "colab_type": "text"
      },
      "source": [
        "### Matrices as Transformations"
      ]
    },
    {
      "cell_type": "markdown",
      "metadata": {
        "id": "86k122UjSaUq",
        "colab_type": "text"
      },
      "source": [
        "The 3Blue 1Brown [Essence of Linear Algebra](https://www.youtube.com/playlist?list=PLZHQObOWTQDPD3MizzM2xVFitgF8hE_ab) videos are fantastic.  They give a much more visual & geometric perspective on linear algreba than how it is typically taught.  These videos are a great resource if you are a linear algebra beginner, or feel uncomfortable or rusty with the material.\n",
        "\n",
        "Even if you are a linear algrebra pro, I still recommend these videos for a new perspective, and they are very well made."
      ]
    },
    {
      "cell_type": "markdown",
      "metadata": {
        "id": "JHSztzbCSaUx",
        "colab_type": "text"
      },
      "source": [
        "## British Literature SVD & NMF in Excel"
      ]
    },
    {
      "cell_type": "markdown",
      "metadata": {
        "id": "3lwbBFy5SaUy",
        "colab_type": "text"
      },
      "source": [
        "Data was downloaded from [here](https://de.dariah.eu/tatom/datasets.html)\n",
        "\n",
        "The code below was used to create the matrices which are displayed in the SVD and NMF of British Literature excel workbook. The data is intended to be viewed in Excel, I've just included the code here for thoroughness."
      ]
    },
    {
      "cell_type": "markdown",
      "metadata": {
        "heading_collapsed": true,
        "id": "4dXJcWIsSaU0",
        "colab_type": "text"
      },
      "source": [
        "### Initializing, create document-term matrix"
      ]
    },
    {
      "cell_type": "code",
      "metadata": {
        "id": "jI7qFP88TFkd",
        "colab_type": "code",
        "colab": {
          "base_uri": "https://localhost:8080/",
          "height": 204
        },
        "outputId": "f8ededf5-9c2e-4ead-d00f-ff7d4fb3021d"
      },
      "source": [
        "!wget https://liferay.de.dariah.eu/tatom/_downloads/datasets.zip\n",
        "!unzip datasets.zip"
      ],
      "execution_count": 3,
      "outputs": [
        {
          "output_type": "stream",
          "text": [
            "--2019-07-16 19:39:55--  https://liferay.de.dariah.eu/tatom/_downloads/datasets.zip\n",
            "Resolving liferay.de.dariah.eu (liferay.de.dariah.eu)... 134.76.30.131\n",
            "Connecting to liferay.de.dariah.eu (liferay.de.dariah.eu)|134.76.30.131|:443... connected.\n",
            "HTTP request sent, awaiting response... 200 OK\n",
            "Length: 57659024 (55M) [application/zip]\n",
            "Saving to: ‘datasets.zip’\n",
            "\n",
            "datasets.zip        100%[===================>]  54.99M  17.8MB/s    in 3.1s    \n",
            "\n",
            "2019-07-16 19:39:59 (17.8 MB/s) - ‘datasets.zip’ saved [57659024/57659024]\n",
            "\n"
          ],
          "name": "stdout"
        }
      ]
    },
    {
      "cell_type": "code",
      "metadata": {
        "id": "Z70HekUiTHmW",
        "colab_type": "code",
        "colab": {
          "base_uri": "https://localhost:8080/",
          "height": 170
        },
        "outputId": "0878fec5-4101-4534-dcdd-62f0ec5501a6"
      },
      "source": [
        "!ls ./data/british-fiction-corpus/"
      ],
      "execution_count": 16,
      "outputs": [
        {
          "output_type": "stream",
          "text": [
            "ABronte_Agnes.txt      Dickens_David.txt\tRichardson_Pamela.txt\n",
            "ABronte_Tenant.txt     Dickens_Hard.txt\t\tSterne_Sentimental.txt\n",
            "Austen_Emma.txt        EBronte_Wuthering.txt\tSterne_Tristram.txt\n",
            "Austen_Pride.txt       Eliot_Adam.txt\t\tThackeray_Barry.txt\n",
            "Austen_Sense.txt       Eliot_Middlemarch.txt\tThackeray_Pendennis.txt\n",
            "CBronte_Jane.txt       Eliot_Mill.txt\t\tThackeray_Vanity.txt\n",
            "CBronte_Professor.txt  Fielding_Joseph.txt\tTrollope_Barchester.txt\n",
            "CBronte_Villette.txt   Fielding_Tom.txt\t\tTrollope_Phineas.txt\n",
            "Dickens_Bleak.txt      Richardson_Clarissa.txt\tTrollope_Prime.txt\n"
          ],
          "name": "stdout"
        }
      ]
    },
    {
      "cell_type": "code",
      "metadata": {
        "hidden": true,
        "id": "PmgSovMfSaU1",
        "colab_type": "code",
        "colab": {}
      },
      "source": [
        "import numpy as np\n",
        "from sklearn.feature_extraction.text import CountVectorizer, TfidfVectorizer\n",
        "from sklearn import decomposition\n",
        "from glob import glob\n",
        "import os"
      ],
      "execution_count": 0,
      "outputs": []
    },
    {
      "cell_type": "code",
      "metadata": {
        "hidden": true,
        "id": "zSsYMzs7SaU4",
        "colab_type": "code",
        "colab": {}
      },
      "source": [
        "np.set_printoptions(suppress=True)"
      ],
      "execution_count": 0,
      "outputs": []
    },
    {
      "cell_type": "code",
      "metadata": {
        "hidden": true,
        "id": "AzAu-XjXSaU7",
        "colab_type": "code",
        "colab": {}
      },
      "source": [
        "filenames = []\n",
        "for folder in [\"british-fiction-corpus\"]: #, \"french-plays\", \"hugo-les-misérables\"]:\n",
        "    filenames.extend(glob(\"data/\" + folder + \"/*.txt\"))"
      ],
      "execution_count": 0,
      "outputs": []
    },
    {
      "cell_type": "code",
      "metadata": {
        "id": "yQdxkRHuUg-9",
        "colab_type": "code",
        "colab": {}
      },
      "source": [
        "filenames = \"./data/british-fiction-corpus/*.txt\""
      ],
      "execution_count": 0,
      "outputs": []
    },
    {
      "cell_type": "code",
      "metadata": {
        "id": "Bxz5a9d0VqQF",
        "colab_type": "code",
        "colab": {
          "base_uri": "https://localhost:8080/",
          "height": 476
        },
        "outputId": "0b005a8f-4915-4c5f-9f5d-5debd62f90b3"
      },
      "source": [
        "filenames"
      ],
      "execution_count": 21,
      "outputs": [
        {
          "output_type": "execute_result",
          "data": {
            "text/plain": [
              "['data/british-fiction-corpus/CBronte_Professor.txt',\n",
              " 'data/british-fiction-corpus/Thackeray_Pendennis.txt',\n",
              " 'data/british-fiction-corpus/Sterne_Sentimental.txt',\n",
              " 'data/british-fiction-corpus/Trollope_Prime.txt',\n",
              " 'data/british-fiction-corpus/ABronte_Agnes.txt',\n",
              " 'data/british-fiction-corpus/CBronte_Jane.txt',\n",
              " 'data/british-fiction-corpus/ABronte_Tenant.txt',\n",
              " 'data/british-fiction-corpus/Dickens_Hard.txt',\n",
              " 'data/british-fiction-corpus/Eliot_Adam.txt',\n",
              " 'data/british-fiction-corpus/Austen_Pride.txt',\n",
              " 'data/british-fiction-corpus/Eliot_Mill.txt',\n",
              " 'data/british-fiction-corpus/CBronte_Villette.txt',\n",
              " 'data/british-fiction-corpus/Eliot_Middlemarch.txt',\n",
              " 'data/british-fiction-corpus/Sterne_Tristram.txt',\n",
              " 'data/british-fiction-corpus/Richardson_Clarissa.txt',\n",
              " 'data/british-fiction-corpus/Austen_Sense.txt',\n",
              " 'data/british-fiction-corpus/Fielding_Tom.txt',\n",
              " 'data/british-fiction-corpus/EBronte_Wuthering.txt',\n",
              " 'data/british-fiction-corpus/Dickens_David.txt',\n",
              " 'data/british-fiction-corpus/Trollope_Phineas.txt',\n",
              " 'data/british-fiction-corpus/Thackeray_Vanity.txt',\n",
              " 'data/british-fiction-corpus/Thackeray_Barry.txt',\n",
              " 'data/british-fiction-corpus/Trollope_Barchester.txt',\n",
              " 'data/british-fiction-corpus/Fielding_Joseph.txt',\n",
              " 'data/british-fiction-corpus/Austen_Emma.txt',\n",
              " 'data/british-fiction-corpus/Richardson_Pamela.txt',\n",
              " 'data/british-fiction-corpus/Dickens_Bleak.txt']"
            ]
          },
          "metadata": {
            "tags": []
          },
          "execution_count": 21
        }
      ]
    },
    {
      "cell_type": "code",
      "metadata": {
        "hidden": true,
        "id": "Pmn_82WqSaVA",
        "colab_type": "code",
        "colab": {
          "base_uri": "https://localhost:8080/",
          "height": 34
        },
        "outputId": "fa794fa2-b246-4db6-c2b7-605102676099"
      },
      "source": [
        "len(filenames)"
      ],
      "execution_count": 20,
      "outputs": [
        {
          "output_type": "execute_result",
          "data": {
            "text/plain": [
              "27"
            ]
          },
          "metadata": {
            "tags": []
          },
          "execution_count": 20
        }
      ]
    },
    {
      "cell_type": "code",
      "metadata": {
        "hidden": true,
        "id": "E3-y8mihSaVJ",
        "colab_type": "code",
        "colab": {
          "base_uri": "https://localhost:8080/",
          "height": 34
        },
        "outputId": "3544b1a5-28f1-43d9-e0ec-161eedd7037f"
      },
      "source": [
        "vectorizer = TfidfVectorizer(input='filename', stop_words='english')\n",
        "dtm = vectorizer.fit_transform(filenames).toarray()\n",
        "vocab = np.array(vectorizer.get_feature_names())\n",
        "dtm.shape, len(vocab)"
      ],
      "execution_count": 22,
      "outputs": [
        {
          "output_type": "execute_result",
          "data": {
            "text/plain": [
              "((27, 55035), 55035)"
            ]
          },
          "metadata": {
            "tags": []
          },
          "execution_count": 22
        }
      ]
    },
    {
      "cell_type": "code",
      "metadata": {
        "hidden": true,
        "id": "jKzUgIP7SaVR",
        "colab_type": "code",
        "colab": {
          "base_uri": "https://localhost:8080/",
          "height": 214
        },
        "outputId": "3baece98-568e-46ff-d64c-f5b9374d269f"
      },
      "source": [
        "[f.split(\"/\")[3] for f in filenames]"
      ],
      "execution_count": 23,
      "outputs": [
        {
          "output_type": "error",
          "ename": "IndexError",
          "evalue": "ignored",
          "traceback": [
            "\u001b[0;31m---------------------------------------------------------------------------\u001b[0m",
            "\u001b[0;31mIndexError\u001b[0m                                Traceback (most recent call last)",
            "\u001b[0;32m<ipython-input-23-c5dce44d7889>\u001b[0m in \u001b[0;36m<module>\u001b[0;34m()\u001b[0m\n\u001b[0;32m----> 1\u001b[0;31m \u001b[0;34m[\u001b[0m\u001b[0mf\u001b[0m\u001b[0;34m.\u001b[0m\u001b[0msplit\u001b[0m\u001b[0;34m(\u001b[0m\u001b[0;34m\"/\"\u001b[0m\u001b[0;34m)\u001b[0m\u001b[0;34m[\u001b[0m\u001b[0;36m3\u001b[0m\u001b[0;34m]\u001b[0m \u001b[0;32mfor\u001b[0m \u001b[0mf\u001b[0m \u001b[0;32min\u001b[0m \u001b[0mfilenames\u001b[0m\u001b[0;34m]\u001b[0m\u001b[0;34m\u001b[0m\u001b[0;34m\u001b[0m\u001b[0m\n\u001b[0m",
            "\u001b[0;32m<ipython-input-23-c5dce44d7889>\u001b[0m in \u001b[0;36m<listcomp>\u001b[0;34m(.0)\u001b[0m\n\u001b[0;32m----> 1\u001b[0;31m \u001b[0;34m[\u001b[0m\u001b[0mf\u001b[0m\u001b[0;34m.\u001b[0m\u001b[0msplit\u001b[0m\u001b[0;34m(\u001b[0m\u001b[0;34m\"/\"\u001b[0m\u001b[0;34m)\u001b[0m\u001b[0;34m[\u001b[0m\u001b[0;36m3\u001b[0m\u001b[0;34m]\u001b[0m \u001b[0;32mfor\u001b[0m \u001b[0mf\u001b[0m \u001b[0;32min\u001b[0m \u001b[0mfilenames\u001b[0m\u001b[0;34m]\u001b[0m\u001b[0;34m\u001b[0m\u001b[0;34m\u001b[0m\u001b[0m\n\u001b[0m",
            "\u001b[0;31mIndexError\u001b[0m: list index out of range"
          ]
        }
      ]
    },
    {
      "cell_type": "markdown",
      "metadata": {
        "heading_collapsed": true,
        "id": "2kLb58dqSaVV",
        "colab_type": "text"
      },
      "source": [
        "### NMF"
      ]
    },
    {
      "cell_type": "code",
      "metadata": {
        "hidden": true,
        "id": "YGxaSOwcSaVV",
        "colab_type": "code",
        "colab": {}
      },
      "source": [
        "clf = decomposition.NMF(n_components=10, random_state=1)\n",
        "\n",
        "W1 = clf.fit_transform(dtm)\n",
        "H1 = clf.components_"
      ],
      "execution_count": 0,
      "outputs": []
    },
    {
      "cell_type": "code",
      "metadata": {
        "hidden": true,
        "id": "7-MApgypSaVZ",
        "colab_type": "code",
        "colab": {}
      },
      "source": [
        "num_top_words=8\n",
        "\n",
        "def show_topics(a):\n",
        "    top_words = lambda t: [vocab[i] for i in np.argsort(t)[:-num_top_words-1:-1]]\n",
        "    topic_words = ([top_words(t) for t in a])\n",
        "    return [' '.join(t) for t in topic_words]"
      ],
      "execution_count": 0,
      "outputs": []
    },
    {
      "cell_type": "code",
      "metadata": {
        "hidden": true,
        "id": "Djn_ncB4SaVe",
        "colab_type": "code",
        "colab": {}
      },
      "source": [
        "def get_all_topic_words(H):\n",
        "    top_indices = lambda t: {i for i in np.argsort(t)[:-num_top_words-1:-1]}\n",
        "    topic_indices = [top_indices(t) for t in H]\n",
        "    return sorted(set.union(*topic_indices))"
      ],
      "execution_count": 0,
      "outputs": []
    },
    {
      "cell_type": "code",
      "metadata": {
        "hidden": true,
        "id": "oKz0kXzGSaVi",
        "colab_type": "code",
        "colab": {}
      },
      "source": [
        "ind = get_all_topic_words(H1)"
      ],
      "execution_count": 0,
      "outputs": []
    },
    {
      "cell_type": "code",
      "metadata": {
        "hidden": true,
        "id": "OOHl2kjrSaVn",
        "colab_type": "code",
        "colab": {
          "base_uri": "https://localhost:8080/",
          "height": 187
        },
        "outputId": "19b6f8e5-bf15-4d17-9b85-f0359d10626f"
      },
      "source": [
        "vocab[ind]"
      ],
      "execution_count": 28,
      "outputs": [
        {
          "output_type": "execute_result",
          "data": {
            "text/plain": [
              "array(['adams', 'allworthy', 'amelia', 'barry', 'becky', 'bounderby',\n",
              "       'catherine', 'cathy', 'clavering', 'corporal', 'crawley', 'darcy',\n",
              "       'did', 'dobbin', 'dorothea', 'earnshaw', 'edgar', 'elinor', 'emma',\n",
              "       'father', 'finn', 'glegg', 'good', 'hareton', 'hath', 'heathcliff',\n",
              "       'jones', 'jos', 'joseph', 'know', 'lady', 'laura', 'like',\n",
              "       'linton', 'little', 'll', 'lopez', 'lydgate', 'lyndon', 'maggie',\n",
              "       'man', 'marianne', 'miss', 'mr', 'mrs', 'osborne', 'pen',\n",
              "       'pendennis', 'philip', 'phineas', 'quoth', 'rawdon', 'said',\n",
              "       'sophia', 'thought', 'time', 'tis', 'toby', 'tom', 'trim',\n",
              "       'tulliver', 'uncle', 'wakem', 'weston', 'wharton'], dtype='<U31')"
            ]
          },
          "metadata": {
            "tags": []
          },
          "execution_count": 28
        }
      ]
    },
    {
      "cell_type": "code",
      "metadata": {
        "hidden": true,
        "scrolled": true,
        "id": "_DGbF6TXSaVs",
        "colab_type": "code",
        "colab": {
          "base_uri": "https://localhost:8080/",
          "height": 187
        },
        "outputId": "231870fe-12b0-4f01-c197-ecc2720fe740"
      },
      "source": [
        "show_topics(H1)"
      ],
      "execution_count": 29,
      "outputs": [
        {
          "output_type": "execute_result",
          "data": {
            "text/plain": [
              "['mr said mrs bounderby lydgate know little dorothea',\n",
              " 'said little like did time know thought good',\n",
              " 'adams jones joseph allworthy sophia hath said lady',\n",
              " 'mr elinor emma darcy mrs weston marianne miss',\n",
              " 'toby said uncle father corporal quoth tis trim',\n",
              " 'heathcliff linton hareton catherine earnshaw cathy edgar ll',\n",
              " 'said lyndon pendennis barry man clavering lady pen',\n",
              " 'phineas said mr lopez finn man wharton laura',\n",
              " 'crawley osborne rawdon dobbin amelia jos becky said',\n",
              " 'maggie tulliver said tom glegg philip mr wakem']"
            ]
          },
          "metadata": {
            "tags": []
          },
          "execution_count": 29
        }
      ]
    },
    {
      "cell_type": "code",
      "metadata": {
        "hidden": true,
        "id": "HsGHnT3TSaVv",
        "colab_type": "code",
        "colab": {},
        "outputId": "984b6172-29c8-4dd6-a141-76492f44a5f4"
      },
      "source": [
        "W1.shape, H1[:, ind].shape"
      ],
      "execution_count": 0,
      "outputs": [
        {
          "output_type": "execute_result",
          "data": {
            "text/plain": [
              "((27, 10), (10, 64))"
            ]
          },
          "metadata": {
            "tags": []
          },
          "execution_count": 142
        }
      ]
    },
    {
      "cell_type": "markdown",
      "metadata": {
        "hidden": true,
        "id": "RhqOb_EBSaVz",
        "colab_type": "text"
      },
      "source": [
        "#### Export to CSVs"
      ]
    },
    {
      "cell_type": "code",
      "metadata": {
        "collapsed": true,
        "hidden": true,
        "id": "p2CAe4acSaVz",
        "colab_type": "code",
        "colab": {}
      },
      "source": [
        "from IPython.display import FileLink, FileLinks"
      ],
      "execution_count": 0,
      "outputs": []
    },
    {
      "cell_type": "code",
      "metadata": {
        "hidden": true,
        "id": "e7z0p_TcSaV2",
        "colab_type": "code",
        "colab": {},
        "outputId": "3693ff07-8d81-4801-ce1f-f6477afd009e"
      },
      "source": [
        "np.savetxt(\"britlit_W.csv\", W1, delimiter=\",\", fmt='%.14f')\n",
        "FileLink('britlit_W.csv')"
      ],
      "execution_count": 0,
      "outputs": [
        {
          "output_type": "execute_result",
          "data": {
            "text/html": [
              "<a href='britlit_W.csv' target='_blank'>britlit_W.csv</a><br>"
            ],
            "text/plain": [
              "/data/jhoward/rachel/num-lin-alg/nbs/britlit_W.csv"
            ]
          },
          "metadata": {
            "tags": []
          },
          "execution_count": 119
        }
      ]
    },
    {
      "cell_type": "code",
      "metadata": {
        "hidden": true,
        "id": "HBGP8yVrSaV5",
        "colab_type": "code",
        "colab": {},
        "outputId": "d0c71e39-a222-4a13-e381-8f2a83c4d990"
      },
      "source": [
        "np.savetxt(\"britlit_H.csv\", H1[:,ind], delimiter=\",\", fmt='%.14f')\n",
        "FileLink('britlit_H.csv')"
      ],
      "execution_count": 0,
      "outputs": [
        {
          "output_type": "execute_result",
          "data": {
            "text/html": [
              "<a href='britlit_H.csv' target='_blank'>britlit_H.csv</a><br>"
            ],
            "text/plain": [
              "/data/jhoward/rachel/num-lin-alg/nbs/britlit_H.csv"
            ]
          },
          "metadata": {
            "tags": []
          },
          "execution_count": 120
        }
      ]
    },
    {
      "cell_type": "code",
      "metadata": {
        "hidden": true,
        "id": "5GNAX5HGSaV8",
        "colab_type": "code",
        "colab": {},
        "outputId": "7c35cbc5-2b20-49c5-f51b-154170290f28"
      },
      "source": [
        "np.savetxt(\"britlit_raw.csv\", dtm[:,ind], delimiter=\",\", fmt='%.14f')\n",
        "FileLink('britlit_raw.csv')"
      ],
      "execution_count": 0,
      "outputs": [
        {
          "output_type": "execute_result",
          "data": {
            "text/html": [
              "<a href='britlit_raw.csv' target='_blank'>britlit_raw.csv</a><br>"
            ],
            "text/plain": [
              "/data/jhoward/rachel/num-lin-alg/nbs/britlit_raw.csv"
            ]
          },
          "metadata": {
            "tags": []
          },
          "execution_count": 131
        }
      ]
    },
    {
      "cell_type": "code",
      "metadata": {
        "collapsed": true,
        "hidden": true,
        "id": "GRvYn_VGSaV_",
        "colab_type": "code",
        "colab": {},
        "outputId": "25f1984d-4230-47dc-939f-02ab3551e21d"
      },
      "source": [
        "[str(word) for word in vocab[ind]]"
      ],
      "execution_count": 0,
      "outputs": [
        {
          "output_type": "execute_result",
          "data": {
            "text/plain": [
              "['adams',\n",
              " 'allworthy',\n",
              " 'bounderby',\n",
              " 'brandon',\n",
              " 'catherine',\n",
              " 'cathy',\n",
              " 'corporal',\n",
              " 'crawley',\n",
              " 'darcy',\n",
              " 'dashwood',\n",
              " 'did',\n",
              " 'earnshaw',\n",
              " 'edgar',\n",
              " 'elinor',\n",
              " 'emma',\n",
              " 'father',\n",
              " 'ferrars',\n",
              " 'finn',\n",
              " 'glegg',\n",
              " 'good',\n",
              " 'gradgrind',\n",
              " 'hareton',\n",
              " 'heathcliff',\n",
              " 'jennings',\n",
              " 'jones',\n",
              " 'joseph',\n",
              " 'know',\n",
              " 'lady',\n",
              " 'laura',\n",
              " 'like',\n",
              " 'linton',\n",
              " 'little',\n",
              " 'll',\n",
              " 'lopez',\n",
              " 'louisa',\n",
              " 'lyndon',\n",
              " 'maggie',\n",
              " 'man',\n",
              " 'marianne',\n",
              " 'miss',\n",
              " 'mr',\n",
              " 'mrs',\n",
              " 'old',\n",
              " 'osborne',\n",
              " 'pendennis',\n",
              " 'philip',\n",
              " 'phineas',\n",
              " 'quoth',\n",
              " 'said',\n",
              " 'sissy',\n",
              " 'sophia',\n",
              " 'sparsit',\n",
              " 'stephen',\n",
              " 'thought',\n",
              " 'time',\n",
              " 'tis',\n",
              " 'toby',\n",
              " 'tom',\n",
              " 'trim',\n",
              " 'tulliver',\n",
              " 'uncle',\n",
              " 'wakem',\n",
              " 'wharton',\n",
              " 'willoughby']"
            ]
          },
          "metadata": {
            "tags": []
          },
          "execution_count": 121
        }
      ]
    },
    {
      "cell_type": "markdown",
      "metadata": {
        "id": "GZsZorkJSaWD",
        "colab_type": "text"
      },
      "source": [
        "### SVD"
      ]
    },
    {
      "cell_type": "code",
      "metadata": {
        "id": "aX6L1OjRSaWG",
        "colab_type": "code",
        "colab": {}
      },
      "source": [
        "U, s, V = decomposition.randomized_svd(dtm, 10)"
      ],
      "execution_count": 0,
      "outputs": []
    },
    {
      "cell_type": "code",
      "metadata": {
        "id": "QtEACTkHSaWI",
        "colab_type": "code",
        "colab": {}
      },
      "source": [
        "ind = get_all_topic_words(V)"
      ],
      "execution_count": 0,
      "outputs": []
    },
    {
      "cell_type": "code",
      "metadata": {
        "id": "9atGl9OPSaWK",
        "colab_type": "code",
        "colab": {},
        "outputId": "25c559ea-c529-4e2d-ca96-52b06dbe372b"
      },
      "source": [
        "len(ind)"
      ],
      "execution_count": 0,
      "outputs": [
        {
          "output_type": "execute_result",
          "data": {
            "text/plain": [
              "52"
            ]
          },
          "metadata": {
            "tags": []
          },
          "execution_count": 145
        }
      ]
    },
    {
      "cell_type": "code",
      "metadata": {
        "id": "I_iYymlRSaWN",
        "colab_type": "code",
        "colab": {},
        "outputId": "1e69847f-420f-4ebd-8fb8-83190443547a"
      },
      "source": [
        "vocab[ind]"
      ],
      "execution_count": 0,
      "outputs": [
        {
          "output_type": "execute_result",
          "data": {
            "text/plain": [
              "array(['adams', 'allworthy', 'bounderby', 'bretton', 'catherine',\n",
              "       'crimsworth', 'darcy', 'dashwood', 'did', 'elinor', 'elton', 'emma',\n",
              "       'finn', 'fleur', 'glegg', 'good', 'gradgrind', 'hareton', 'hath',\n",
              "       'heathcliff', 'hunsden', 'jennings', 'jones', 'joseph', 'knightley',\n",
              "       'know', 'lady', 'linton', 'little', 'lopez', 'louisa', 'lydgate',\n",
              "       'madame', 'maggie', 'man', 'marianne', 'miss', 'monsieur', 'mr',\n",
              "       'mrs', 'pelet', 'philip', 'phineas', 'said', 'sissy', 'sophia',\n",
              "       'sparsit', 'toby', 'tom', 'tulliver', 'uncle', 'weston'], \n",
              "      dtype='<U31')"
            ]
          },
          "metadata": {
            "tags": []
          },
          "execution_count": 146
        }
      ]
    },
    {
      "cell_type": "code",
      "metadata": {
        "scrolled": true,
        "id": "SL_SwepcSaWQ",
        "colab_type": "code",
        "colab": {},
        "outputId": "d488bb36-a095-4374-921f-af645efe18e0"
      },
      "source": [
        "show_topics(H1)"
      ],
      "execution_count": 0,
      "outputs": [
        {
          "output_type": "execute_result",
          "data": {
            "text/plain": [
              "['mr said mrs miss emma darcy little know',\n",
              " 'said little like did time know thought good',\n",
              " 'adams jones said lady allworthy sophia joseph mr',\n",
              " 'elinor marianne dashwood jennings willoughby mrs brandon ferrars',\n",
              " 'maggie tulliver said tom glegg philip mr wakem',\n",
              " 'heathcliff linton hareton catherine earnshaw cathy edgar ll',\n",
              " 'toby said uncle father corporal quoth tis trim',\n",
              " 'phineas said mr lopez finn man wharton laura',\n",
              " 'said crawley lyndon pendennis old little osborne lady',\n",
              " 'bounderby gradgrind sparsit said mr sissy louisa stephen']"
            ]
          },
          "metadata": {
            "tags": []
          },
          "execution_count": 147
        }
      ]
    },
    {
      "cell_type": "code",
      "metadata": {
        "id": "wqcbmD7aSaWU",
        "colab_type": "code",
        "colab": {},
        "outputId": "a927b2cf-b8cf-4345-c57c-9bcf5cdcda7a"
      },
      "source": [
        "np.savetxt(\"britlit_U.csv\", U, delimiter=\",\", fmt='%.14f')\n",
        "FileLink('britlit_U.csv')"
      ],
      "execution_count": 0,
      "outputs": [
        {
          "output_type": "execute_result",
          "data": {
            "text/html": [
              "<a href='britlit_U.csv' target='_blank'>britlit_U.csv</a><br>"
            ],
            "text/plain": [
              "/data/jhoward/rachel/num-lin-alg/nbs/britlit_U.csv"
            ]
          },
          "metadata": {
            "tags": []
          },
          "execution_count": 148
        }
      ]
    },
    {
      "cell_type": "code",
      "metadata": {
        "id": "p7nx1b1bSaWX",
        "colab_type": "code",
        "colab": {},
        "outputId": "e3bf1eea-1d1d-4057-e169-8864fefdee0e"
      },
      "source": [
        "np.savetxt(\"britlit_V.csv\", V[:,ind], delimiter=\",\", fmt='%.14f')\n",
        "FileLink('britlit_V.csv')"
      ],
      "execution_count": 0,
      "outputs": [
        {
          "output_type": "execute_result",
          "data": {
            "text/html": [
              "<a href='britlit_V.csv' target='_blank'>britlit_V.csv</a><br>"
            ],
            "text/plain": [
              "/data/jhoward/rachel/num-lin-alg/nbs/britlit_V.csv"
            ]
          },
          "metadata": {
            "tags": []
          },
          "execution_count": 149
        }
      ]
    },
    {
      "cell_type": "code",
      "metadata": {
        "id": "k3SSZpe8SaWa",
        "colab_type": "code",
        "colab": {},
        "outputId": "419a4981-8593-4c42-a602-f8855fddfc46"
      },
      "source": [
        "np.savetxt(\"britlit_raw_svd.csv\", dtm[:,ind], delimiter=\",\", fmt='%.14f')\n",
        "FileLink('britlit_raw_svd.csv')"
      ],
      "execution_count": 0,
      "outputs": [
        {
          "output_type": "execute_result",
          "data": {
            "text/html": [
              "<a href='britlit_raw_svd.csv' target='_blank'>britlit_raw_svd.csv</a><br>"
            ],
            "text/plain": [
              "/data/jhoward/rachel/num-lin-alg/nbs/britlit_raw_svd.csv"
            ]
          },
          "metadata": {
            "tags": []
          },
          "execution_count": 150
        }
      ]
    },
    {
      "cell_type": "code",
      "metadata": {
        "id": "8DXOxMDwSaWd",
        "colab_type": "code",
        "colab": {},
        "outputId": "23ed6ce4-a161-4cf4-ab6e-26de525b0f28"
      },
      "source": [
        "np.savetxt(\"britlit_S.csv\", np.diag(s), delimiter=\",\", fmt='%.14f')\n",
        "FileLink('britlit_S.csv')"
      ],
      "execution_count": 0,
      "outputs": [
        {
          "output_type": "execute_result",
          "data": {
            "text/html": [
              "<a href='britlit_S.csv' target='_blank'>britlit_S.csv</a><br>"
            ],
            "text/plain": [
              "/data/jhoward/rachel/num-lin-alg/nbs/britlit_S.csv"
            ]
          },
          "metadata": {
            "tags": []
          },
          "execution_count": 151
        }
      ]
    },
    {
      "cell_type": "code",
      "metadata": {
        "collapsed": true,
        "id": "uEbzA1ACSaWh",
        "colab_type": "code",
        "colab": {},
        "outputId": "70a4e18f-fcef-47eb-a6b8-774626fd600d"
      },
      "source": [
        "[str(word) for word in vocab[ind]]"
      ],
      "execution_count": 0,
      "outputs": [
        {
          "output_type": "execute_result",
          "data": {
            "text/plain": [
              "['adams',\n",
              " 'allworthy',\n",
              " 'bounderby',\n",
              " 'bretton',\n",
              " 'catherine',\n",
              " 'crimsworth',\n",
              " 'darcy',\n",
              " 'dashwood',\n",
              " 'did',\n",
              " 'elinor',\n",
              " 'elton',\n",
              " 'emma',\n",
              " 'finn',\n",
              " 'fleur',\n",
              " 'glegg',\n",
              " 'good',\n",
              " 'gradgrind',\n",
              " 'hareton',\n",
              " 'hath',\n",
              " 'heathcliff',\n",
              " 'hunsden',\n",
              " 'jennings',\n",
              " 'jones',\n",
              " 'joseph',\n",
              " 'knightley',\n",
              " 'know',\n",
              " 'lady',\n",
              " 'linton',\n",
              " 'little',\n",
              " 'lopez',\n",
              " 'louisa',\n",
              " 'lydgate',\n",
              " 'madame',\n",
              " 'maggie',\n",
              " 'man',\n",
              " 'marianne',\n",
              " 'miss',\n",
              " 'monsieur',\n",
              " 'mr',\n",
              " 'mrs',\n",
              " 'pelet',\n",
              " 'philip',\n",
              " 'phineas',\n",
              " 'said',\n",
              " 'sissy',\n",
              " 'sophia',\n",
              " 'sparsit',\n",
              " 'toby',\n",
              " 'tom',\n",
              " 'tulliver',\n",
              " 'uncle',\n",
              " 'weston']"
            ]
          },
          "metadata": {
            "tags": []
          },
          "execution_count": 152
        }
      ]
    },
    {
      "cell_type": "markdown",
      "metadata": {
        "id": "I0PMKvPTSaWn",
        "colab_type": "text"
      },
      "source": [
        "## Randomized SVD offers a speed up"
      ]
    },
    {
      "cell_type": "markdown",
      "metadata": {
        "id": "7GRW_eCcSaWn",
        "colab_type": "text"
      },
      "source": [
        "<img src=\"https://github.com/fastai/course-nlp/blob/master/images/svd_slow.png?raw=1\" alt=\"\" style=\"width: 80%\"/>"
      ]
    },
    {
      "cell_type": "markdown",
      "metadata": {
        "id": "GDU_Dkw-SaWo",
        "colab_type": "text"
      },
      "source": [
        "One way to address this is to use randomized SVD.  In the below chart, the error is the difference between A - U * S * V, that is, what you've failed to capture in your decomposition:\n",
        "\n",
        "<img src=\"https://github.com/fastai/course-nlp/blob/master/images/svd_speed.png?raw=1\" alt=\"\" style=\"width: 60%\"/>"
      ]
    },
    {
      "cell_type": "markdown",
      "metadata": {
        "id": "oKGTzh7HSaWq",
        "colab_type": "text"
      },
      "source": [
        "For more on randomized SVD, check out my [PyBay 2017 talk](https://www.youtube.com/watch?v=7i6kBz1kZ-A&list=PLtmWHNX-gukLQlMvtRJ19s7-8MrnRV6h6&index=7).\n",
        "\n",
        "For significantly more on randomized SVD, check out the [Computational Linear Algebra course](https://github.com/fastai/numerical-linear-algebra)."
      ]
    },
    {
      "cell_type": "markdown",
      "metadata": {
        "collapsed": true,
        "id": "huLxVjUdSaWr",
        "colab_type": "text"
      },
      "source": [
        "## Full vs Reduced SVD"
      ]
    },
    {
      "cell_type": "markdown",
      "metadata": {
        "id": "EwiQfjX-SaWu",
        "colab_type": "text"
      },
      "source": [
        "Remember how we were calling `np.linalg.svd(vectors, full_matrices=False)`?  We set `full_matrices=False` to calculate the reduced SVD.  For the full SVD, both U and V are **square** matrices, where the extra columns in U form an orthonormal basis (but zero out when multiplied by extra rows of zeros in S)."
      ]
    },
    {
      "cell_type": "markdown",
      "metadata": {
        "id": "y6iNcE_QSaWv",
        "colab_type": "text"
      },
      "source": [
        "Diagrams from Trefethen:\n",
        "\n",
        "<img src=\"https://github.com/fastai/course-nlp/blob/master/images/full_svd.JPG?raw=1\" alt=\"\" style=\"width: 80%\"/>\n",
        "\n",
        "<img src=\"https://github.com/fastai/course-nlp/blob/master/images/reduced_svd.JPG?raw=1\" alt=\"\" style=\"width: 70%\"/>"
      ]
    }
  ]
}